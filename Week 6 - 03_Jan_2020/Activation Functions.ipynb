{
 "cells": [
  {
   "cell_type": "code",
   "execution_count": 1,
   "metadata": {},
   "outputs": [],
   "source": [
    "import numpy as np"
   ]
  },
  {
   "cell_type": "code",
   "execution_count": 2,
   "metadata": {},
   "outputs": [],
   "source": [
    "def sigmoid(X):\n",
    "    Y = 1/(1+np.exp(-X))\n",
    "    return Y"
   ]
  },
  {
   "cell_type": "code",
   "execution_count": 3,
   "metadata": {},
   "outputs": [],
   "source": [
    "def tanh(X):\n",
    "    Y = np.tanh(X)\n",
    "    return Y"
   ]
  },
  {
   "cell_type": "code",
   "execution_count": 4,
   "metadata": {},
   "outputs": [],
   "source": [
    "def ReLU(X):\n",
    "    Y = X*(X>0) #All elements greater than 0 will retain the value whereas rest will be 0\n",
    "    return Y"
   ]
  },
  {
   "cell_type": "code",
   "execution_count": 5,
   "metadata": {},
   "outputs": [],
   "source": [
    "def LReLU(X,slope=0.01):\n",
    "    Y1 = X*(X>0) #For elements greater than 0\n",
    "    Y2 = slope*X*(X<=0) #for elements less than or equal to 0\n",
    "    Y = Y1+Y2\n",
    "    return Y"
   ]
  },
  {
   "cell_type": "code",
   "execution_count": 6,
   "metadata": {},
   "outputs": [],
   "source": [
    "def softmax(X):\n",
    "    EXP = np.exp(X)\n",
    "    Y = np.exp(X)/sum(EXP)\n",
    "    return Y"
   ]
  },
  {
   "cell_type": "code",
   "execution_count": 7,
   "metadata": {},
   "outputs": [
    {
     "name": "stdout",
     "output_type": "stream",
     "text": [
      "Original Array:\t\t [-10   2   5  10   7  -6]\n",
      "Sigmoid of X:\t\t [0.   0.88 0.99 1.   1.   0.  ]\n",
      "Tanh of X:\t\t [-1.    0.96  1.    1.    1.   -1.  ]\n",
      "ReLU of X:\t\t [ 0  2  5 10  7  0]\n",
      "Leaky ReLU of X:\t [-0.1   2.    5.   10.    7.   -0.06]\n",
      "Softmax of X:\t\t [0.   0.   0.01 0.95 0.05 0.  ]\n"
     ]
    }
   ],
   "source": [
    "X = np.array([-10,2,5,10,7,-6])\n",
    "print(\"Original Array:\\t\\t\",np.round(X,2))\n",
    "print(\"Sigmoid of X:\\t\\t\",np.round(sigmoid(X),2))\n",
    "print(\"Tanh of X:\\t\\t\",np.round(tanh(X),2))\n",
    "print(\"ReLU of X:\\t\\t\",np.round(ReLU(X),2))\n",
    "print(\"Leaky ReLU of X:\\t\",np.round(LReLU(X,0.01),2))\n",
    "print(\"Softmax of X:\\t\\t\",np.round(softmax(X),2))"
   ]
  }
 ],
 "metadata": {
  "kernelspec": {
   "display_name": "Python 3",
   "language": "python",
   "name": "python3"
  },
  "language_info": {
   "codemirror_mode": {
    "name": "ipython",
    "version": 3
   },
   "file_extension": ".py",
   "mimetype": "text/x-python",
   "name": "python",
   "nbconvert_exporter": "python",
   "pygments_lexer": "ipython3",
   "version": "3.7.6"
  }
 },
 "nbformat": 4,
 "nbformat_minor": 4
}
