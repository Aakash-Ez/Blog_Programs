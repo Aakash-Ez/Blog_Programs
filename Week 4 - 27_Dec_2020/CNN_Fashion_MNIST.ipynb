{
  "nbformat": 4,
  "nbformat_minor": 0,
  "metadata": {
    "colab": {
      "name": "CNN_Fashion_MNIST.ipynb",
      "provenance": []
    },
    "kernelspec": {
      "name": "python3",
      "display_name": "Python 3"
    }
  },
  "cells": [
    {
      "cell_type": "code",
      "metadata": {
        "id": "pmEPyE0edIEd"
      },
      "source": [
        "import numpy as np\r\n",
        "from keras import datasets\r\n",
        "(x_train,y_train),(x_test,y_test) = datasets.fashion_mnist.load_data()"
      ],
      "execution_count": null,
      "outputs": []
    },
    {
      "cell_type": "code",
      "metadata": {
        "id": "cT7hPIuidUYb"
      },
      "source": [
        "from keras.utils import to_categorical\r\n",
        "X_train = np.reshape(x_train,(x_train.shape[0],x_train.shape[1],x_train.shape[2],1))\r\n",
        "X_test = np.reshape(x_test,(x_test.shape[0],x_test.shape[1],x_test.shape[2],1))\r\n",
        "Y_train = to_categorical(y_train,10)\r\n",
        "Y_test = to_categorical(y_test,10)\r\n",
        "print(\"X Train shape is:\",X_train.shape)\r\n",
        "print(\"Y Train shape is:\",Y_train.shape)\r\n",
        "print(\"X Test shape is:\",X_test.shape)\r\n",
        "print(\"Y Test shape is:\",Y_test.shape)"
      ],
      "execution_count": null,
      "outputs": []
    },
    {
      "cell_type": "code",
      "metadata": {
        "id": "CDoyiB7gdV9t"
      },
      "source": [
        "import matplotlib.pyplot as plt\r\n",
        "plt.imshow(x_train[0])\r\n",
        "print(\"Label is\",y_train[0])"
      ],
      "execution_count": null,
      "outputs": []
    },
    {
      "cell_type": "code",
      "metadata": {
        "id": "cM4TqwxKeQfO"
      },
      "source": [
        "from keras.layers import Input,Dense,Conv2D,MaxPooling2D,BatchNormalization,Flatten\r\n",
        "from keras import Sequential"
      ],
      "execution_count": 4,
      "outputs": []
    },
    {
      "cell_type": "code",
      "metadata": {
        "id": "h2BEc-yYe7oH"
      },
      "source": [
        "def create_model(input_shape,no_of_classes):\r\n",
        "  model = Sequential()\r\n",
        "  model.add(Input(input_shape))\r\n",
        "  model.add(Conv2D(128,kernel_size=(3,3), activation=\"relu\"))\r\n",
        "  model.add(MaxPooling2D())\r\n",
        "  model.add(BatchNormalization())\r\n",
        "  model.add(Conv2D(256,kernel_size=(3,3), activation=\"relu\"))\r\n",
        "  model.add(MaxPooling2D())\r\n",
        "  model.add(BatchNormalization())\r\n",
        "  model.add(Conv2D(512,kernel_size=(3,3), activation=\"relu\"))\r\n",
        "  model.add(MaxPooling2D())\r\n",
        "  model.add(BatchNormalization())\r\n",
        "  model.add(Flatten())\r\n",
        "  model.add(Dense(1024,activation=\"relu\"))\r\n",
        "  model.add(Dense(1024,activation=\"relu\"))\r\n",
        "  model.add(Dense(no_of_classes,activation=\"softmax\"))\r\n",
        "  return model\r\n",
        "model = create_model(X_train[0].shape,10)\r\n",
        "model.compile(optimizer='adam', loss='categorical_crossentropy',metrics=\"accuracy\")\r\n",
        "model.summary()"
      ],
      "execution_count": null,
      "outputs": []
    },
    {
      "cell_type": "code",
      "metadata": {
        "id": "Pn1b2lqWfrf_"
      },
      "source": [
        "history = model.fit(X_train,Y_train,batch_size=64,epochs=10,validation_split=0.2)"
      ],
      "execution_count": null,
      "outputs": []
    },
    {
      "cell_type": "code",
      "metadata": {
        "id": "F1_av0V3jqA0"
      },
      "source": [
        "y_pred = model.predict(X_test)\r\n",
        "y_pred = np.where(y_pred > 0.5, 1, 0)\r\n",
        "print(y_pred.shape)\r\n",
        "from sklearn.metrics import confusion_matrix\r\n",
        "cf_matrix = confusion_matrix(Y_test.argmax(axis=1),y_pred.argmax(axis=1),normalize='true')*100\r\n",
        "import seaborn as sns\r\n",
        "ax = sns.heatmap(cf_matrix, annot=True,cmap=\"YlGnBu\")\r\n",
        "ax.set(title=\"Confusion Matrix\",\r\n",
        "      xlabel=\"True Value\",\r\n",
        "      ylabel=\"Prediction\",)\r\n",
        "sns.set(font_scale=1)"
      ],
      "execution_count": null,
      "outputs": []
    },
    {
      "cell_type": "code",
      "metadata": {
        "id": "B3nJewZzj1dk"
      },
      "source": [
        "plt.figure()\r\n",
        "plt.plot(history.history['loss'])\r\n",
        "plt.plot(history.history['val_loss'])\r\n",
        "plt.show()"
      ],
      "execution_count": null,
      "outputs": []
    },
    {
      "cell_type": "code",
      "metadata": {
        "id": "1V_FeNeVkoch"
      },
      "source": [
        "plt.figure()\r\n",
        "plt.plot(history.history['accuracy'])\r\n",
        "plt.plot(history.history['val_accuracy'])\r\n",
        "plt.show()"
      ],
      "execution_count": null,
      "outputs": []
    }
  ]
}