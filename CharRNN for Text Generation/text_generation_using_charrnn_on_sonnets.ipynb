{
  "nbformat": 4,
  "nbformat_minor": 0,
  "metadata": {
    "kernelspec": {
      "name": "python3",
      "display_name": "Python 3",
      "language": "python"
    },
    "language_info": {
      "name": "python",
      "version": "3.7.9",
      "mimetype": "text/x-python",
      "codemirror_mode": {
        "name": "ipython",
        "version": 3
      },
      "pygments_lexer": "ipython3",
      "nbconvert_exporter": "python",
      "file_extension": ".py"
    },
    "colab": {
      "name": "text-generation-using-charrnn-on-sonnets.ipynb",
      "provenance": [],
      "collapsed_sections": []
    }
  },
  "cells": [
    {
      "cell_type": "code",
      "metadata": {
        "trusted": true,
        "colab": {
          "base_uri": "https://localhost:8080/"
        },
        "id": "OYVaq_tbT_9_",
        "outputId": "74d26ed3-595b-4982-d94b-1ec90f4e3377"
      },
      "source": [
        "!pip install h5py"
      ],
      "execution_count": null,
      "outputs": [
        {
          "output_type": "stream",
          "text": [
            "Requirement already satisfied: h5py in /usr/local/lib/python3.7/dist-packages (2.10.0)\n",
            "Requirement already satisfied: numpy>=1.7 in /usr/local/lib/python3.7/dist-packages (from h5py) (1.19.5)\n",
            "Requirement already satisfied: six in /usr/local/lib/python3.7/dist-packages (from h5py) (1.15.0)\n"
          ],
          "name": "stdout"
        }
      ]
    },
    {
      "cell_type": "code",
      "metadata": {
        "_uuid": "8f2839f25d086af736a60e9eeb907d3b93b6e0e5",
        "_cell_guid": "b1076dfc-b9ad-4769-8c92-a6c4dae69d19",
        "trusted": true,
        "colab": {
          "base_uri": "https://localhost:8080/"
        },
        "id": "ZQL5hfshT_-W",
        "outputId": "b684ae1b-2bc4-4493-b198-69604936445a"
      },
      "source": [
        "import re\n",
        "import numpy as np\n",
        "f = open('sonnets.txt')\n",
        "text = f.read().lower().replace('\\t','')\n",
        "text = re.sub(r'[^\\w\\s]', '', text)\n",
        "text = re.sub(r\"sonnet.*\\n\", 'newpoem\\n', text)\n",
        "vocab = list(set(text))\n",
        "print(vocab)\n",
        "text = [i for i in text.split(\"\\n\") if i!=\"\"]\n",
        "text.pop(0)\n",
        "#print(text)\n",
        "sonnets = []\n",
        "temp = \"\"\n",
        "for i in text:\n",
        "  if i != \"newpoem\":\n",
        "    temp += i+\" \\n\"\n",
        "  else:\n",
        "    sonnets.append(temp)\n",
        "    temp = \"\"\n",
        "print(len(sonnets))"
      ],
      "execution_count": 75,
      "outputs": [
        {
          "output_type": "stream",
          "text": [
            "['u', 'h', '\\n', 'p', 'z', 'k', 'i', 'r', 's', 'y', 'm', 'x', 'j', 'b', 'f', 'v', 'e', 'd', 'a', 'l', 'w', 'q', ' ', 'g', 'n', 'o', 'c', 't']\n",
            "154\n"
          ],
          "name": "stdout"
        }
      ]
    },
    {
      "cell_type": "code",
      "metadata": {
        "trusted": true,
        "id": "-P6WMWajT_-b"
      },
      "source": [
        "i2c_dict = {}\n",
        "c2i_dict = {}\n",
        "for i in range(len(vocab)):\n",
        "  i2c_dict[i] = vocab[i]\n",
        "  c2i_dict[vocab[i]] = i\n",
        "vocab_size = len(vocab)"
      ],
      "execution_count": 76,
      "outputs": []
    },
    {
      "cell_type": "code",
      "metadata": {
        "trusted": true,
        "colab": {
          "base_uri": "https://localhost:8080/"
        },
        "id": "8icOavTZT_-c",
        "outputId": "5c8f2912-1e07-4000-d1ec-3dcab7dcd7f2"
      },
      "source": [
        "def one_hot(a,vocab_size):\n",
        "  a = np.array(a)\n",
        "  b = np.zeros((a.size, vocab_size))\n",
        "  b[np.arange(a.size),a] = 1\n",
        "  return b\n",
        "X = []\n",
        "Y = []\n",
        "counter = 1\n",
        "for i in sonnets:\n",
        "  print(\"\\r\"+str(counter)+\"/154\",end=\"\")\n",
        "  counter = counter + 1\n",
        "  for j in range(50,len(i)):\n",
        "    x_val = [c2i_dict[k] for k in i[j-50:j]]\n",
        "    y_val = one_hot([c2i_dict[i[j]]],vocab_size)\n",
        "    X.append(x_val)\n",
        "    Y.append(y_val)\n",
        "X_array = np.array(X).reshape(len(X),50,1)\n",
        "Y_array = np.array(Y).reshape(len(Y),vocab_size)"
      ],
      "execution_count": 77,
      "outputs": [
        {
          "output_type": "stream",
          "text": [
            "154/154"
          ],
          "name": "stdout"
        }
      ]
    },
    {
      "cell_type": "code",
      "metadata": {
        "trusted": true,
        "id": "s4bUgYcTT_-e"
      },
      "source": [
        "from sklearn.model_selection import train_test_split\n",
        "X_train, X_test, y_train, y_test = train_test_split(X_array, Y_array, test_size=0.1, random_state=10)"
      ],
      "execution_count": 78,
      "outputs": []
    },
    {
      "cell_type": "code",
      "metadata": {
        "trusted": true,
        "id": "Kf3DabLWT_-f"
      },
      "source": [
        "from keras import Model\n",
        "from keras.models import Sequential,load_model\n",
        "from keras.layers import Dense, Dropout, LSTM, Embedding\n",
        "from keras.callbacks import ModelCheckpoint, Callback\n",
        "from keras.optimizers import Adam"
      ],
      "execution_count": 79,
      "outputs": []
    },
    {
      "cell_type": "code",
      "metadata": {
        "trusted": true,
        "id": "pHmjNOPsT_-h"
      },
      "source": [
        "def nextinput(x,pred):\n",
        "    x = x[1:]\n",
        "    pred = np.argmax(pred)\n",
        "    x = np.append(x,pred)\n",
        "    return x,pred\n",
        "def printarray(arr):\n",
        "    #arr = np.argmax(arr,axis=1)\n",
        "    string = \"\"\n",
        "    for i in arr:\n",
        "      string = string + i2c_dict[i[0]]\n",
        "    return string\n",
        "class PredictCallback(Callback):\n",
        "    def on_epoch_end(self, epoch, logs={}):\n",
        "        keys = list(logs.keys())\n",
        "        inp = X_test[10]\n",
        "        print(printarray(inp),end=\"\")\n",
        "        X_Val = np.reshape(inp,(1,50,1))\n",
        "        for i in range(50):\n",
        "            pred = self.model.predict([X_Val],verbose = 0)\n",
        "            pred = np.reshape(pred,(28,1))\n",
        "            inp,pred = nextinput(inp,pred)\n",
        "            X_Val = np.reshape(inp,(1,50,1))\n",
        "            character = i2c_dict[pred]\n",
        "            print(character,end=\"\")\n",
        "        print(\"\\n\")"
      ],
      "execution_count": 80,
      "outputs": []
    },
    {
      "cell_type": "code",
      "metadata": {
        "trusted": true,
        "colab": {
          "base_uri": "https://localhost:8080/"
        },
        "id": "b5I2oCyZT_-i",
        "outputId": "38624b4f-b716-4168-f274-d652337866c7"
      },
      "source": [
        "def create_model(inp_shape,batch_size,vocab_size):\n",
        "    model = Sequential()\n",
        "    model.add(Embedding(vocab_size,256,input_length=50))\n",
        "    model.add(LSTM(512, input_shape = (None,50,256), activation = 'relu'))\n",
        "    model.add(Dense(2048,activation='relu'))\n",
        "    model.add(Dropout(0.1))\n",
        "    model.add(Dense(2048,activation='relu'))\n",
        "    model.add(Dropout(0.1))\n",
        "    model.add(Dense(2048,activation='relu'))\n",
        "    model.add(Dropout(0.1))\n",
        "    model.add(Dense(vocab_size,activation='softmax'))\n",
        "    return model\n",
        "BATCH_SIZE = 64\n",
        "checkpoint_path = \"model.20-0.61.h5\"\n",
        "model = create_model(X_array[0].shape,BATCH_SIZE,vocab_size)\n",
        "model.load_weights(checkpoint_path)\n",
        "model.summary()"
      ],
      "execution_count": 81,
      "outputs": [
        {
          "output_type": "stream",
          "text": [
            "Model: \"sequential_12\"\n",
            "_________________________________________________________________\n",
            "Layer (type)                 Output Shape              Param #   \n",
            "=================================================================\n",
            "embedding_9 (Embedding)      (None, 50, 256)           7168      \n",
            "_________________________________________________________________\n",
            "lstm_11 (LSTM)               (None, 512)               1574912   \n",
            "_________________________________________________________________\n",
            "dense_44 (Dense)             (None, 2048)              1050624   \n",
            "_________________________________________________________________\n",
            "dropout_33 (Dropout)         (None, 2048)              0         \n",
            "_________________________________________________________________\n",
            "dense_45 (Dense)             (None, 2048)              4196352   \n",
            "_________________________________________________________________\n",
            "dropout_34 (Dropout)         (None, 2048)              0         \n",
            "_________________________________________________________________\n",
            "dense_46 (Dense)             (None, 2048)              4196352   \n",
            "_________________________________________________________________\n",
            "dropout_35 (Dropout)         (None, 2048)              0         \n",
            "_________________________________________________________________\n",
            "dense_47 (Dense)             (None, 28)                57372     \n",
            "=================================================================\n",
            "Total params: 11,082,780\n",
            "Trainable params: 11,082,780\n",
            "Non-trainable params: 0\n",
            "_________________________________________________________________\n"
          ],
          "name": "stdout"
        }
      ]
    },
    {
      "cell_type": "code",
      "metadata": {
        "trusted": true,
        "id": "jWo6ryPjT_-k"
      },
      "source": [
        "opt = Adam(learning_rate=0.0005)\n",
        "checkpoint = ModelCheckpoint(filepath='model.{epoch:02d}-{loss:.2f}.h5')\n",
        "callbacks_list = [checkpoint,PredictCallback()]\n",
        "model.compile(optimizer=opt, loss='categorical_crossentropy', metrics=['accuracy'])"
      ],
      "execution_count": 82,
      "outputs": []
    },
    {
      "cell_type": "code",
      "metadata": {
        "trusted": true,
        "colab": {
          "base_uri": "https://localhost:8080/"
        },
        "id": "q15c0eUAT_-l",
        "outputId": "8ed72865-2472-4ebb-e5c9-1e3a489337ff"
      },
      "source": [
        "history = model.fit(x=X_train,y=y_train,epochs=20,validation_split=0.1,batch_size=BATCH_SIZE,validation_steps=20,callbacks=callbacks_list,shuffle=True)"
      ],
      "execution_count": 74,
      "outputs": [
        {
          "output_type": "stream",
          "text": [
            "Epoch 1/20\n",
            "1074/1074 [==============================] - 949s 884ms/step - loss: 2.2743 - accuracy: 0.3294 - val_loss: 1.9942 - val_accuracy: 0.4016\n",
            "y keep \n",
            "by childrens eyes her husbands shape in ming \n",
            "the the the the the the the the the the the th\n",
            "\n",
            "Epoch 2/20\n",
            "1074/1074 [==============================] - 928s 864ms/step - loss: 1.8372 - accuracy: 0.4473 - val_loss: 1.7676 - val_accuracy: 0.4563\n",
            "y keep \n",
            "by childrens eyes her husbands shape in mine \n",
            "the the the the the the the the the still \n",
            "the\n",
            "\n",
            "Epoch 3/20\n",
            "1074/1074 [==============================] - 920s 856ms/step - loss: 1.6691 - accuracy: 0.4894 - val_loss: 1.6512 - val_accuracy: 0.4914\n",
            "y keep \n",
            "by childrens eyes her husbands shape in mine \n",
            "and the the the the the the the the the shall \n",
            "\n",
            "Epoch 4/20\n",
            "1074/1074 [==============================] - 912s 850ms/step - loss: 1.5725 - accuracy: 0.5100 - val_loss: 1.5786 - val_accuracy: 0.5141\n",
            "y keep \n",
            "by childrens eyes her husbands shape in mine \n",
            "and the stear the stear the stell the stell \n",
            "t\n",
            "\n",
            "Epoch 5/20\n",
            "1074/1074 [==============================] - 920s 857ms/step - loss: 1.4895 - accuracy: 0.5290 - val_loss: 1.5237 - val_accuracy: 0.5266\n",
            "y keep \n",
            "by childrens eyes her husbands shape in mine \n",
            "the shall the shall the shadow the strange \n",
            "th\n",
            "\n",
            "Epoch 6/20\n",
            "1074/1074 [==============================] - 914s 851ms/step - loss: 1.4259 - accuracy: 0.5450 - val_loss: 1.4939 - val_accuracy: 0.5391\n",
            "y keep \n",
            "by childrens eyes her husbands shape in mine \n",
            "and the beauty the strange the strange the str\n",
            "\n",
            "Epoch 7/20\n",
            "1074/1074 [==============================] - 920s 857ms/step - loss: 1.3677 - accuracy: 0.5610 - val_loss: 1.4465 - val_accuracy: 0.5484\n",
            "y keep \n",
            "by childrens eyes her husbands shape in mine \n",
            "the summer that the stard the stain the stain \n",
            "\n",
            "Epoch 8/20\n",
            "1074/1074 [==============================] - 953s 887ms/step - loss: 1.3117 - accuracy: 0.5723 - val_loss: 1.4552 - val_accuracy: 0.5367\n",
            "y keep \n",
            "by childrens eyes her husbands shape in mind \n",
            "the straight the straight the straight the str\n",
            "\n",
            "Epoch 9/20\n",
            "1074/1074 [==============================] - 940s 875ms/step - loss: 1.2619 - accuracy: 0.5878 - val_loss: 1.4800 - val_accuracy: 0.5461\n",
            "y keep \n",
            "by childrens eyes her husbands shape in mind \n",
            "the world of the world of the stick of thee \n",
            "a\n",
            "\n",
            "Epoch 10/20\n",
            "1074/1074 [==============================] - 957s 891ms/step - loss: 1.2097 - accuracy: 0.6018 - val_loss: 1.4857 - val_accuracy: 0.5555\n",
            "y keep \n",
            "by childrens eyes her husbands shape in mine \n",
            "the world or the world of the sun of the stron\n",
            "\n",
            "Epoch 11/20\n",
            "1074/1074 [==============================] - 968s 902ms/step - loss: 1.1530 - accuracy: 0.6179 - val_loss: 1.5569 - val_accuracy: 0.5437\n",
            "y keep \n",
            "by childrens eyes her husbands shape in mind \n",
            "the beauty thou art the star thou art the stat\n",
            "\n",
            "Epoch 12/20\n",
            "1074/1074 [==============================] - 948s 883ms/step - loss: 1.0950 - accuracy: 0.6339 - val_loss: 1.6332 - val_accuracy: 0.5461\n",
            "y keep \n",
            "by childrens eyes her husbands shape in mind \n",
            "the steepul the fleech the steepul the steep \n",
            "\n",
            "\n",
            "Epoch 13/20\n",
            "1074/1074 [==============================] - 949s 884ms/step - loss: 1.0450 - accuracy: 0.6496 - val_loss: 1.6076 - val_accuracy: 0.5398\n",
            "y keep \n",
            "by childrens eyes her husbands shape in mind \n",
            "the basest of the sweet beautys be the steep \n",
            "\n",
            "\n",
            "Epoch 14/20\n",
            "1074/1074 [==============================] - 951s 885ms/step - loss: 0.9807 - accuracy: 0.6694 - val_loss: 1.6626 - val_accuracy: 0.5406\n",
            "y keep \n",
            "by childrens eyes her husbands shape in minds \n",
            "the better than the world or the subjects sor\n",
            "\n",
            "Epoch 15/20\n",
            "1074/1074 [==============================] - 947s 882ms/step - loss: 0.9228 - accuracy: 0.6876 - val_loss: 1.7707 - val_accuracy: 0.5391\n",
            "y keep \n",
            "by childrens eyes her husbands shape in mind \n",
            "the beauty of thy sweet love and true \n",
            "and sor\n",
            "\n",
            "Epoch 16/20\n",
            "1074/1074 [==============================] - 946s 880ms/step - loss: 0.8623 - accuracy: 0.7090 - val_loss: 1.8825 - val_accuracy: 0.5500\n",
            "y keep \n",
            "by childrens eyes her husbands shape in mind \n",
            "that the world will wail the false are dead \n",
            "t\n",
            "\n",
            "Epoch 17/20\n",
            "1074/1074 [==============================] - 920s 857ms/step - loss: 0.7985 - accuracy: 0.7285 - val_loss: 1.9749 - val_accuracy: 0.5523\n",
            "y keep \n",
            "by childrens eyes her husbands shape in mind \n",
            "the story of the fair which i compile thee \n",
            "fo\n",
            "\n",
            "Epoch 18/20\n",
            "1074/1074 [==============================] - 954s 889ms/step - loss: 0.7326 - accuracy: 0.7501 - val_loss: 2.0944 - val_accuracy: 0.5398\n",
            "y keep \n",
            "by childrens eyes her husbands shape in mind \n",
            "that i may not love thou art and they see \n",
            "whe\n",
            "\n",
            "Epoch 19/20\n",
            "1074/1074 [==============================] - 939s 874ms/step - loss: 0.6747 - accuracy: 0.7706 - val_loss: 2.2559 - val_accuracy: 0.5273\n",
            "y keep \n",
            "by childrens eyes her husbands shape in minds \n",
            "that the world may see what is in their own \n",
            "\n",
            "\n",
            "Epoch 20/20\n",
            "1074/1074 [==============================] - 957s 891ms/step - loss: 0.6066 - accuracy: 0.7940 - val_loss: 2.3858 - val_accuracy: 0.5422\n",
            "y keep \n",
            "by childrens eyes her husbands shape in mine \n",
            "my heart thy praise of thy dear more delight \n",
            "\n",
            "\n"
          ],
          "name": "stdout"
        }
      ]
    },
    {
      "cell_type": "code",
      "metadata": {
        "trusted": true,
        "colab": {
          "base_uri": "https://localhost:8080/",
          "height": 307
        },
        "id": "fMS_QaxOT_-m",
        "outputId": "81847b54-f09d-4671-c82b-18307271dea5"
      },
      "source": [
        "import seaborn as sns; sns.set_theme()\n",
        "from sklearn.metrics import classification_report, confusion_matrix\n",
        "y_pred = model.predict(X_test,verbose = 1)\n",
        "y_pred_val = np.argmax(y_pred,axis=1)\n",
        "y_test_val = np.argmax(y_test,axis=1)\n",
        "cm = confusion_matrix(y_test_val, y_pred_val)\n",
        "cm = (cm.T/cm.sum(axis=1)).T\n",
        "sns.heatmap(cm,xticklabels=vocab, yticklabels=vocab)"
      ],
      "execution_count": 83,
      "outputs": [
        {
          "output_type": "stream",
          "text": [
            "265/265 [==============================] - 34s 128ms/step\n"
          ],
          "name": "stdout"
        },
        {
          "output_type": "execute_result",
          "data": {
            "text/plain": [
              "<matplotlib.axes._subplots.AxesSubplot at 0x7fe5fc2a3650>"
            ]
          },
          "metadata": {
            "tags": []
          },
          "execution_count": 83
        },
        {
          "output_type": "display_data",
          "data": {
            "image/png": "[encoded data removed]",
            "text/plain": [
              "<Figure size 432x288 with 2 Axes>"
            ]
          },
          "metadata": {
            "tags": []
          }
        }
      ]
    },
    {
      "cell_type": "code",
      "metadata": {
        "trusted": true,
        "colab": {
          "base_uri": "https://localhost:8080/"
        },
        "id": "sSwH2_tJT_-p",
        "outputId": "1b4896fd-b185-4cb5-acfc-6c046e9d4220"
      },
      "source": [
        "input_text = \"From fairest creatures we desire increase\\nThat thereby\"\n",
        "input_text = input_text.lower()\n",
        "no_of_char = 400\n",
        "if len(input_text)>=50:\n",
        "    inp = []\n",
        "    for i in range(50):\n",
        "        inp.append(c2i_dict[input_text[i]])\n",
        "    inp = np.array(inp).reshape((50,1))\n",
        "    print(printarray(inp),end=\"\")\n",
        "    X_Val = np.reshape(inp,(1,50,1))\n",
        "    for i in range(no_of_char):\n",
        "            pred = model.predict([X_Val],verbose = 0)\n",
        "            pred = np.reshape(pred,(28,1))\n",
        "            inp,pred = nextinput(inp,pred)\n",
        "            X_Val = np.reshape(inp,(1,50,1))\n",
        "            character = i2c_dict[pred]\n",
        "            print(character,end=\"\")\n",
        "    print(\"\\n\")\n",
        "else:\n",
        "    print(\"Input is too small\")"
      ],
      "execution_count": 93,
      "outputs": [
        {
          "output_type": "stream",
          "text": [
            "from fairest creatures we desire increase\n",
            "that they me be blessed welite \n",
            "shall will in overplus of words of thy dear \n",
            "to pubst time desire the store of my good \n",
            "and to thy sweet love remembers she keep \n",
            "in the death of my purpose fair wert \n",
            "and summers breath their antique pen wiit \n",
            "beautys effectuned simplicities \n",
            "and to the love thy fair appearance find \n",
            "thy bloody spur and hours false in this \n",
            "i will acquaintance but as the living defence \n",
            "th\n",
            "\n"
          ],
          "name": "stdout"
        }
      ]
    },
    {
      "cell_type": "code",
      "metadata": {
        "id": "5c6LKa6IvyDc"
      },
      "source": [
        ""
      ],
      "execution_count": null,
      "outputs": []
    }
  ]
}