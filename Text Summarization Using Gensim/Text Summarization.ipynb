{
 "cells": [
  {
   "cell_type": "code",
   "execution_count": 1,
   "metadata": {},
   "outputs": [
    {
     "name": "stdout",
     "output_type": "stream",
     "text": [
      "0.1836     1  mixed types\n",
      "[mixed types]\n",
      "0.1785     3  systems\n",
      "[systems, systems, systems]\n",
      "0.1504     1  minimal generating sets\n",
      "[minimal generating sets]\n",
      "0.1474     1  nonstrict inequations\n",
      "[nonstrict inequations]\n",
      "0.1395     1  strict inequations\n",
      "[strict inequations]\n",
      "0.1195     1  linear Diophantine equations\n",
      "[linear Diophantine equations]\n",
      "0.1145     1  natural numbers\n",
      "[natural numbers]\n",
      "0.1078     3  solutions\n",
      "[solutions, solutions, solutions]\n",
      "0.1053     1  linear constraints\n",
      "[linear constraints]\n",
      "0.1037     1  all the considered types systems\n",
      "[all the considered types systems]\n",
      "0.0881     1  a minimal supporting set\n",
      "[a minimal supporting set]\n",
      "0.0824     1  a system\n",
      "[a system]\n",
      "0.0794     1  a minimal set\n",
      "[a minimal set]\n",
      "0.0764     1  algorithms\n",
      "[algorithms]\n",
      "0.0759     1  all types\n",
      "[all types]\n",
      "0.0731     1  Diophantine\n",
      "[Diophantine]\n",
      "0.0702     1  construction\n",
      "[construction]\n",
      "0.0602     1  Upper bounds\n",
      "[Upper bounds]\n",
      "0.0580     1  the set\n",
      "[the set]\n",
      "0.0543     1  components\n",
      "[components]\n",
      "0.0452     1  Compatibility\n",
      "[Compatibility]\n",
      "0.0452     1  compatibility\n",
      "[compatibility]\n",
      "0.0444     1  the corresponding algorithms\n",
      "[the corresponding algorithms]\n",
      "0.0423     1  Criteria\n",
      "[Criteria]\n",
      "0.0195     1  These criteria\n",
      "[These criteria]\n"
     ]
    }
   ],
   "source": [
    "import spacy\n",
    "import pytextrank\n",
    "\n",
    "# example text\n",
    "text = \"Compatibility of systems of linear constraints over the set of natural numbers. Criteria of compatibility of a system of linear Diophantine equations, strict inequations, and nonstrict inequations are considered. Upper bounds for components of a minimal set of solutions and algorithms of construction of minimal generating sets of solutions for all types of systems are given. These criteria and the corresponding algorithms for constructing a minimal supporting set of solutions can be used in solving all the considered types systems and systems of mixed types.\"\n",
    "\n",
    "# load a spaCy model, depending on language, scale, etc.\n",
    "nlp = spacy.load(\"en_core_web_sm\")\n",
    "\n",
    "# add PyTextRank to the spaCy pipeline\n",
    "nlp.add_pipe(\"textrank\", last=True)\n",
    "doc = nlp(text)\n",
    "\n",
    "# examine the top-ranked phrases in the document\n",
    "for p in doc._.phrases:\n",
    "    print(\"{:.4f} {:5d}  {}\".format(p.rank, p.count, p.text))\n",
    "    print(p.chunks)"
   ]
  },
  {
   "cell_type": "code",
   "execution_count": 2,
   "metadata": {},
   "outputs": [],
   "source": [
    "import gensim\n",
    "from gensim.summarization import summarize\n",
    "import wikipedia"
   ]
  },
  {
   "cell_type": "code",
   "execution_count": 6,
   "metadata": {},
   "outputs": [],
   "source": [
    "search = wikipedia.page(\"Youtube\")\n",
    "original_text = search.content"
   ]
  },
  {
   "cell_type": "code",
   "execution_count": 7,
   "metadata": {},
   "outputs": [
    {
     "name": "stdout",
     "output_type": "stream",
     "text": [
      "Summary:\n",
      "Later on August 26, 2015, YouTube launched YouTube Gaming—a video gaming-oriented vertical and app for videos and live streaming, intended to compete with the Amazon.com-owned Twitch.In October 2015, YouTube announced YouTube Red (now YouTube Premium), a new premium service that would offer ad-free access to all content on the platform (succeeding the Music Key service released the previous year), premium original series, and films produced by YouTube personalities, as well as background playback of content on mobile devices.\n"
     ]
    }
   ],
   "source": [
    "short_summary = summarize(original_text,word_count=100)\n",
    "print(\"Summary:\")\n",
    "print(short_summary)"
   ]
  },
  {
   "cell_type": "code",
   "execution_count": null,
   "metadata": {},
   "outputs": [],
   "source": []
  }
 ],
 "metadata": {
  "kernelspec": {
   "display_name": "Python 3",
   "language": "python",
   "name": "python3"
  },
  "language_info": {
   "codemirror_mode": {
    "name": "ipython",
    "version": 3
   },
   "file_extension": ".py",
   "mimetype": "text/x-python",
   "name": "python",
   "nbconvert_exporter": "python",
   "pygments_lexer": "ipython3",
   "version": "3.8.5"
  }
 },
 "nbformat": 4,
 "nbformat_minor": 4
}
